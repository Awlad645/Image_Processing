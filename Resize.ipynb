{
  "cells": [
    {
      "cell_type": "code",
      "execution_count": null,
      "metadata": {
        "id": "suOtTetUA5kA"
      },
      "outputs": [],
      "source": [
        "from PIL import Image\n",
        "import glob"
      ]
    },
    {
      "cell_type": "code",
      "execution_count": null,
      "metadata": {
        "colab": {
          "base_uri": "https://localhost:8080/"
        },
        "id": "7WBLa9IUA5r8",
        "outputId": "e262fe96-bab6-426e-b5c9-82d0dddcc270"
      },
      "outputs": [],
      "source": [
        "image_list = []\n",
        "resized_images = []\n",
        "for filename in glob.glob('Input File path/*.png'):\n",
        "  print(filename)\n",
        "  img = Image.open(filename)\n",
        "  image_list.append(img)\n",
        "\n",
        "for image in image_list:\n",
        "  image.show()\n",
        "  image = image.resize((224,224))\n",
        "  resized_images.append(image)\n",
        "for (i,new) in enumerate(resized_images):\n",
        "    new.save('{}{}{}'.format(\"Output File path/\",i+1,'.png'))"
      ]
    }
  ],
  "metadata": {
    "colab": {
      "provenance": []
    },
    "kernelspec": {
      "display_name": "Python 3",
      "name": "python3"
    },
    "language_info": {
      "name": "python"
    }
  },
  "nbformat": 4,
  "nbformat_minor": 0
}
